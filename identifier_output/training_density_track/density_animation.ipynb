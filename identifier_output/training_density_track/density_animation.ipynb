{
 "cells": [
  {
   "cell_type": "code",
   "execution_count": 1,
   "metadata": {},
   "outputs": [],
   "source": [
    "import json\n",
    "import numpy as np\n",
    "import matplotlib.pyplot as plt\n",
    "import seaborn as sns\n",
    "from sklearn.metrics import roc_curve, roc_auc_score\n",
    "import os\n",
    "sns.set_theme(context=\"paper\")\n",
    "from matplotlib import rcParams\n",
    "rcParams['font.family'] = 'serif'\n",
    "rcParams['font.serif'] = ['Times New Roman']  # or another serif font of your choice\n",
    "rcParams['font.weight'] = 'normal'\n",
    "title_fontsize = 19\n",
    "label_fontsize = 19\n",
    "legend_title_fontsize = 12\n",
    "legend_fontsize = 10"
   ]
  },
  {
   "cell_type": "code",
   "execution_count": 3,
   "metadata": {},
   "outputs": [],
   "source": [
    "colors = sns.color_palette(\"bright\", n_colors=4)\n",
    "colors = [colors[i] for i in [0, 2, 3]]\n",
    "\n",
    "# Color mapping for consistency\n",
    "model_names = [\n",
    "    'Prompt-Guard-86M',\n",
    "    'LLaMA-2-7B-Chat',\n",
    "    'LLaMA-2-7B',\n",
    "]\n",
    "color_match = dict(zip(model_names, colors))\n",
    "\n",
    "bw_adjust = 0.2"
   ]
  },
  {
   "cell_type": "code",
   "execution_count": 4,
   "metadata": {},
   "outputs": [],
   "source": [
    "def load_data(file_path):\n",
    "    with open(file_path, 'r') as f:\n",
    "        data = json.load(f)\n",
    "    probs = np.array(data['poisoned_probs'])\n",
    "    labels = data['targets']\n",
    "    # swap 9 to 1 and 1 to 0\n",
    "    labels = np.array([1 if x == 9 else 0 for x in labels])\n",
    "    labels = np.array(labels)\n",
    "    return labels, probs\n",
    "\n",
    "def plot_roc(ax, data_dict, title):\n",
    "    # ax.clear()\n",
    "    for model_name, (labels, probs) in data_dict.items():\n",
    "        fpr, tpr, _ = roc_curve(labels, probs)\n",
    "        roc_auc = roc_auc_score(labels, probs)\n",
    "        ax.plot(fpr, tpr, lw=2, label=f'{model_name} (AUC = {roc_auc:.3f})', color=color_match[model_name])\n",
    "    \n",
    "    ax.plot([0, 1], [0, 1], color='navy', lw=2, linestyle='--')\n",
    "    ax.set_xlim([-0.005, 1.0])\n",
    "    ax.set_ylim([0.0, 1.01])\n",
    "    ax.set_xlabel('False Positive Rate', fontsize=label_fontsize)\n",
    "    if not 'val' in title.lower():\n",
    "        ax.set_ylabel('True Positive Rate', fontsize=label_fontsize)\n",
    "    ax.legend(loc=\"lower right\", frameon=True, fontsize=legend_fontsize, framealpha=1, edgecolor='black', facecolor='white',\n",
    "              title_fontsize=legend_title_fontsize, title=\"Model\")\n",
    "    ax.set_title(f'ROC Curves - {title}', fontsize=title_fontsize, fontweight='bold')\n",
    "\n",
    "def plot_density(ax, labels, probs, model_name, split):\n",
    "    ax.clear()\n",
    "    color = color_match[model_name]\n",
    "    sns.kdeplot(probs[labels == 1], ax=ax, fill=True, color=color, alpha=0.5, label=\"Positive\", clip=(0, 1), bw_adjust=bw_adjust)\n",
    "    sns.kdeplot(probs[labels == 0], ax=ax, fill=True, linewidth=2, color=color, alpha=0.25, label=\"Negative\", clip=(0, 1), bw_adjust=bw_adjust)\n",
    "    ax.set_xlabel(\"Score / Probability\", fontsize=label_fontsize)\n",
    "    ax.set_ylabel(\"Density\", fontsize=label_fontsize)\n",
    "    ax.legend(title=\"Scores\", facecolor='white', frameon=True, fontsize=legend_fontsize, framealpha=1, edgecolor='black',\n",
    "              title_fontsize=legend_title_fontsize, loc='upper center')\n",
    "    # ax.set_xlim(0.0, 1.0)\n",
    "    ax.set_xlim([-0.005, 1.0])\n",
    "    ax.set_title(f'{model_name} - {split}', fontsize=title_fontsize, fontweight='bold')\n",
    "    sns.despine(ax=ax)\n",
    "\n",
    "def load_all_data(directories):\n",
    "    all_data = {'test': {}, 'val': {}}\n",
    "    steps = range(499, 9000, 500)\n",
    "    \n",
    "    for dir in directories:\n",
    "        model_name = dir.split('_')[-3]\n",
    "        if 'chat' in model_name.lower():\n",
    "            model_name = 'LLaMA-2-7B-Chat'\n",
    "        elif 'prompt-guard' in model_name.lower():\n",
    "            model_name = 'Prompt-Guard-86M'\n",
    "        else:\n",
    "            model_name = 'LLaMA-2-7B'\n",
    "        \n",
    "        for split in ['test', 'val']:\n",
    "            all_data[split][model_name] = {}\n",
    "            for step in steps:\n",
    "                file_path = os.path.join(dir, f'{split}_step_{step}.json')\n",
    "                if os.path.exists(file_path):\n",
    "                    labels, probs = load_data(file_path)\n",
    "                    all_data[split][model_name][step] = {'labels': labels, 'probs': probs}\n",
    "    \n",
    "    return all_data, steps"
   ]
  },
  {
   "cell_type": "code",
   "execution_count": 5,
   "metadata": {},
   "outputs": [
    {
     "name": "stdout",
     "output_type": "stream",
     "text": [
      "Individual PDF frames have been generated.\n"
     ]
    },
    {
     "data": {
      "text/plain": [
       "<Figure size 640x480 with 0 Axes>"
      ]
     },
     "metadata": {},
     "output_type": "display_data"
    }
   ],
   "source": [
    "def animate(frame):\n",
    "    step = steps[frame]\n",
    "    \n",
    "    # Clear the entire figure\n",
    "    plt.clf()\n",
    "    \n",
    "    # Recreate the subplot grid\n",
    "    fig, axs = plt.subplots(4, 2, figsize=(12, 15), sharex=True, sharey='row')\n",
    "    \n",
    "    # Update ROC curves\n",
    "    test_data = {model: (data[step]['labels'], data[step]['probs']) for model, data in all_data['test'].items()}\n",
    "    val_data = {model: (data[step]['labels'], data[step]['probs']) for model, data in all_data['val'].items()}\n",
    "    \n",
    "    if step == 499:\n",
    "        test_title = f'Test Set (Step  {step+1})'\n",
    "        val_title = f'Validation Set (Step  {step+1})'\n",
    "    else:\n",
    "        test_title = f'Test Set (Step {step+1})'\n",
    "        val_title = f'Validation Set (Step {step+1})'\n",
    "    plot_roc(axs[0, 0], test_data, test_title)\n",
    "    plot_roc(axs[0, 1], val_data, val_title)\n",
    "    \n",
    "    # Update density plots\n",
    "    for i, model in enumerate(all_data['test'].keys()):\n",
    "        plot_density(axs[i+1, 0], all_data['test'][model][step]['labels'], all_data['test'][model][step]['probs'], model, f'Test Set (Step {step+1})')\n",
    "        plot_density(axs[i+1, 1], all_data['val'][model][step]['labels'], all_data['val'][model][step]['probs'], model, f'Validation Set (Step {step+1})')\n",
    "    \n",
    "    plt.tight_layout()\n",
    "    \n",
    "    # Save each frame as a PDF\n",
    "    plt.savefig(f'animation/roc_density_frame_{frame:03d}.pdf')\n",
    "    plt.close()\n",
    "\n",
    "# Main execution\n",
    "directories = [\n",
    "    './model_9000_steps_500_eval_shuffle_False_base_llama-2-7b_bs_6',\n",
    "    './model_9000_steps_500_eval_shuffle_False_base_llama-2-7b-chat_bs_6',\n",
    "    './model_9000_steps_500_eval_shuffle_False_base_Prompt-Guard-86M_bs_6'\n",
    "]\n",
    "\n",
    "all_data, steps = load_all_data(directories)\n",
    "\n",
    "# Generate each frame\n",
    "for frame in range(len(steps)):\n",
    "    animate(frame)\n",
    "\n",
    "print(\"Individual PDF frames have been generated.\")"
   ]
  },
  {
   "cell_type": "code",
   "execution_count": null,
   "metadata": {},
   "outputs": [],
   "source": []
  }
 ],
 "metadata": {
  "kernelspec": {
   "display_name": "base",
   "language": "python",
   "name": "python3"
  },
  "language_info": {
   "codemirror_mode": {
    "name": "ipython",
    "version": 3
   },
   "file_extension": ".py",
   "mimetype": "text/x-python",
   "name": "python",
   "nbconvert_exporter": "python",
   "pygments_lexer": "ipython3",
   "version": "3.9.16"
  }
 },
 "nbformat": 4,
 "nbformat_minor": 2
}
